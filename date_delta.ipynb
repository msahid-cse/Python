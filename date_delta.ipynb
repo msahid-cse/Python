{
  "nbformat": 4,
  "nbformat_minor": 0,
  "metadata": {
    "colab": {
      "provenance": [],
      "authorship_tag": "ABX9TyPCktPYuycMockA5+EskVrV",
      "include_colab_link": true
    },
    "kernelspec": {
      "name": "python3",
      "display_name": "Python 3"
    },
    "language_info": {
      "name": "python"
    }
  },
  "cells": [
    {
      "cell_type": "markdown",
      "metadata": {
        "id": "view-in-github",
        "colab_type": "text"
      },
      "source": [
        "<a href=\"https://colab.research.google.com/github/msahid-cse/Python/blob/main/date_delta.ipynb\" target=\"_parent\"><img src=\"https://colab.research.google.com/assets/colab-badge.svg\" alt=\"Open In Colab\"/></a>"
      ]
    },
    {
      "cell_type": "code",
      "execution_count": 9,
      "metadata": {
        "colab": {
          "base_uri": "https://localhost:8080/"
        },
        "id": "mZH6HpaJAKIs",
        "outputId": "1ec2ed51-5215-4866-9d44-0363fae388f9"
      },
      "outputs": [
        {
          "output_type": "stream",
          "name": "stdout",
          "text": [
            "Enter Year 1: 2002\n",
            "Enter Year 2: 2024\n",
            "Enter Month 1: 5\n",
            "Enter Month 2: 12\n",
            "Enter Day 1: 1\n",
            "Enter Day 2: 2\n",
            "Days:  8251\n"
          ]
        }
      ],
      "source": [
        "import datetime\n",
        "from datetime import date, time, timedelta, datetime\n",
        "y1 = int(input(\"Enter Year 12: \"))\n",
        "y2 = int(input(\"Enter Year 2: \"))\n",
        "m1 = int(input(\"Enter Month 1: \"))\n",
        "m2 = int(input(\"Enter Month 2: \"))\n",
        "d1 = int(input(\"Enter Day 1: \"))\n",
        "d2 = int(input(\"Enter Day 2: \"))\n",
        "\n",
        "dt1 = date(y1,m1,d1)\n",
        "dt2 = date(y2,m2,d2)\n",
        "delta = dt2 - dt1\n",
        "print(\"Days: \",delta.days)"
      ]
    }
  ]
}
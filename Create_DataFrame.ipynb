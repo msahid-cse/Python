{
  "nbformat": 4,
  "nbformat_minor": 0,
  "metadata": {
    "colab": {
      "provenance": [],
      "authorship_tag": "ABX9TyOBKotZpvvWLmhTeuKW+cVg",
      "include_colab_link": true
    },
    "kernelspec": {
      "name": "python3",
      "display_name": "Python 3"
    },
    "language_info": {
      "name": "python"
    }
  },
  "cells": [
    {
      "cell_type": "markdown",
      "metadata": {
        "id": "view-in-github",
        "colab_type": "text"
      },
      "source": [
        "<a href=\"https://colab.research.google.com/github/msahid-cse/Python/blob/main/Create_DataFrame.ipynb\" target=\"_parent\"><img src=\"https://colab.research.google.com/assets/colab-badge.svg\" alt=\"Open In Colab\"/></a>"
      ]
    },
    {
      "cell_type": "code",
      "execution_count": 6,
      "metadata": {
        "colab": {
          "base_uri": "https://localhost:8080/"
        },
        "id": "MLLff-YsiRGt",
        "outputId": "72c61d2e-c365-4418-ca5b-0a74b64cef2a"
      },
      "outputs": [
        {
          "output_type": "stream",
          "name": "stdout",
          "text": [
            "0     Boston\n",
            "1      Miami\n",
            "2    Seattle\n",
            "Name: City, dtype: object\n"
          ]
        }
      ],
      "source": [
        "'''Create a DataFrame with the following data:\n",
        "      |   Name     Age   City    |\n",
        "      |   Sarah    29    Boston  |\n",
        "Data =|   Tom      35    Miami   |\n",
        "      |   Emily    22    Seattle |\n",
        "\n",
        "Retrieve the City column from the DataFrame.'''\n",
        "\n",
        "\n",
        "\n",
        "import pandas as pd\n",
        "\n",
        "data = {'Name': ['Sarah', 'Tom', 'Emily'],\n",
        "        'Age': [29, 35, 22],\n",
        "        'City': ['Boston', 'Miami', 'Seattle']}\n",
        "\n",
        "df = pd.DataFrame(data)\n",
        "print(df['City'])"
      ]
    }
  ]
}
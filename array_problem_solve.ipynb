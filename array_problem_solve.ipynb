{
  "nbformat": 4,
  "nbformat_minor": 0,
  "metadata": {
    "colab": {
      "provenance": [],
      "authorship_tag": "ABX9TyOn6IITIGITKkLWSABejPG+",
      "include_colab_link": true
    },
    "kernelspec": {
      "name": "python3",
      "display_name": "Python 3"
    },
    "language_info": {
      "name": "python"
    }
  },
  "cells": [
    {
      "cell_type": "markdown",
      "metadata": {
        "id": "view-in-github",
        "colab_type": "text"
      },
      "source": [
        "<a href=\"https://colab.research.google.com/github/msahid-cse/Python/blob/main/array_problem_solve.ipynb\" target=\"_parent\"><img src=\"https://colab.research.google.com/assets/colab-badge.svg\" alt=\"Open In Colab\"/></a>"
      ]
    },
    {
      "cell_type": "code",
      "execution_count": 1,
      "metadata": {
        "colab": {
          "base_uri": "https://localhost:8080/"
        },
        "id": "9ECH9g6zQM_q",
        "outputId": "d99248f4-e992-41af-e07e-551b5cb5c7d1"
      },
      "outputs": [
        {
          "output_type": "stream",
          "name": "stdout",
          "text": [
            "Enter array element: 1\n",
            "Enter array element: 2\n",
            "Enter array element: 3\n",
            "Enter array element: 4\n",
            "Enter array element: 5\n",
            "Enter array element: 6\n",
            "Enter array element: 7\n",
            "Enter array element: 8\n",
            "Enter array element: 9\n",
            "Enter array element: 10\n",
            "[ 1.  2.  3.  4.  5.  6.  7.  8.  9. 10.]\n",
            "6.0\n",
            "9.0\n",
            "14.0\n",
            "21.0\n",
            "30.0\n",
            "41.0\n",
            "54.0\n",
            "69.0\n",
            "86.0\n",
            "105.0\n"
          ]
        }
      ],
      "source": [
        "''' Write a Python Program to Create an Array, Getting 10 Integer from user on Runtime. Display all the Integer with their Square + 5.\n",
        "'''\n",
        "import numpy\n",
        "\n",
        "arr = numpy.array([])\n",
        "\n",
        "for i in range(10):\n",
        "  i = int(input(\"Enter array element: \"))\n",
        "  arr = numpy.append(arr, i)\n",
        "print(arr)\n",
        "\n",
        "for i in arr:\n",
        "  sq = i * i\n",
        "  print(sq + 5)\n"
      ]
    }
  ]
}
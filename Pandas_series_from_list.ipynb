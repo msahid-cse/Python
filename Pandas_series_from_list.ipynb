{
  "nbformat": 4,
  "nbformat_minor": 0,
  "metadata": {
    "colab": {
      "provenance": [],
      "authorship_tag": "ABX9TyMiBcXDaPNvQcX9Aso5/fxC",
      "include_colab_link": true
    },
    "kernelspec": {
      "name": "python3",
      "display_name": "Python 3"
    },
    "language_info": {
      "name": "python"
    }
  },
  "cells": [
    {
      "cell_type": "markdown",
      "metadata": {
        "id": "view-in-github",
        "colab_type": "text"
      },
      "source": [
        "<a href=\"https://colab.research.google.com/github/msahid-cse/Python/blob/main/Pandas_series_from_list.ipynb\" target=\"_parent\"><img src=\"https://colab.research.google.com/assets/colab-badge.svg\" alt=\"Open In Colab\"/></a>"
      ]
    },
    {
      "cell_type": "code",
      "execution_count": 1,
      "metadata": {
        "colab": {
          "base_uri": "https://localhost:8080/"
        },
        "id": "q5eJw43Qg-AE",
        "outputId": "dc5526e1-ba0e-4b99-eacc-30fd140f6fd5"
      },
      "outputs": [
        {
          "output_type": "stream",
          "name": "stdout",
          "text": [
            "16\n"
          ]
        }
      ],
      "source": [
        "'''Create a Pandas Series from the list [8,16,24,32,40]. Access the second element of the series.'''\n",
        "\n",
        "import pandas as pd\n",
        "\n",
        "lst = [8,16,24,32,40]\n",
        "series = pd.Series(lst)\n",
        "print(series[1])"
      ]
    }
  ]
}
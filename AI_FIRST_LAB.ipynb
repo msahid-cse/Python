{
  "nbformat": 4,
  "nbformat_minor": 0,
  "metadata": {
    "colab": {
      "provenance": [],
      "authorship_tag": "ABX9TyMCYBEZoQJooxzh7KK6X3Y4",
      "include_colab_link": true
    },
    "kernelspec": {
      "name": "python3",
      "display_name": "Python 3"
    },
    "language_info": {
      "name": "python"
    }
  },
  "cells": [
    {
      "cell_type": "markdown",
      "metadata": {
        "id": "view-in-github",
        "colab_type": "text"
      },
      "source": [
        "<a href=\"https://colab.research.google.com/github/msahid-cse/Python/blob/main/AI_FIRST_LAB.ipynb\" target=\"_parent\"><img src=\"https://colab.research.google.com/assets/colab-badge.svg\" alt=\"Open In Colab\"/></a>"
      ]
    },
    {
      "cell_type": "code",
      "execution_count": 2,
      "metadata": {
        "colab": {
          "base_uri": "https://localhost:8080/"
        },
        "id": "Ein_zNo28JhX",
        "outputId": "40c6cf44-4583-49c8-9acd-383375cab7a6"
      },
      "outputs": [
        {
          "output_type": "stream",
          "name": "stdout",
          "text": [
            "<class 'int'>\n",
            "<class 'float'>\n",
            "<class 'str'>\n"
          ]
        }
      ],
      "source": [
        "#variable\n",
        "x = 10\n",
        "y = 20.5\n",
        "z = 'sahid'\n",
        "print(type(x))\n",
        "print(type(y))\n",
        "print(type(z))"
      ]
    },
    {
      "cell_type": "code",
      "source": [
        "#newline\n",
        "new_line='hello\\nworld'\n",
        "print(new_line)\n",
        "\n",
        "name = \"Sahid\"\n",
        "print(f\"Hello, \\n{name}!\")\n",
        "\n",
        "msg = \"\"\"my\n",
        "message\"\"\"\n",
        "print(msg)"
      ],
      "metadata": {
        "colab": {
          "base_uri": "https://localhost:8080/"
        },
        "id": "IdwQHHvd9Y-H",
        "outputId": "ef6d45f0-b980-461b-8cf9-d7e70c0c26fe"
      },
      "execution_count": 5,
      "outputs": [
        {
          "output_type": "stream",
          "name": "stdout",
          "text": [
            "hello\n",
            "world\n",
            "Hello, \n",
            "Sahid!\n",
            "my\n",
            "message\n"
          ]
        }
      ]
    },
    {
      "cell_type": "code",
      "source": [
        "#typecoversion\n",
        "x = 3\n",
        "str(x)\n"
      ],
      "metadata": {
        "colab": {
          "base_uri": "https://localhost:8080/"
        },
        "id": "N2YjYr3L-TPz",
        "outputId": "7b40bf2a-fd45-47e9-fdd6-1336e92bd64c"
      },
      "execution_count": 7,
      "outputs": [
        {
          "output_type": "execute_result",
          "data": {
            "text/plain": [
              "int"
            ]
          },
          "metadata": {},
          "execution_count": 7
        }
      ]
    },
    {
      "cell_type": "code",
      "source": [
        "#camel_case\n",
        "myVariableName = \"John\"\n",
        "\n",
        "#passcal_cse\n",
        "MyVariableName = \"John\"\n",
        "\n",
        "#snake_case\n",
        "my_variable_name = \"John\"\n"
      ],
      "metadata": {
        "id": "jeBNU1Gt-2ZU"
      },
      "execution_count": 8,
      "outputs": []
    },
    {
      "cell_type": "code",
      "source": [
        "#multiple_value\n",
        "x, y, x = \"Orange\", \"Banana\", \"Cherry\"\n",
        "print(x, y, z)\n",
        "print(x+y+z)\n",
        "print(x)\n",
        "print(y)\n",
        "print(z)"
      ],
      "metadata": {
        "colab": {
          "base_uri": "https://localhost:8080/"
        },
        "id": "GzhG9TShAmfU",
        "outputId": "eb3997aa-4c6c-448c-a18a-08dc83ba684b"
      },
      "execution_count": 11,
      "outputs": [
        {
          "output_type": "stream",
          "name": "stdout",
          "text": [
            "Cherry Banana sahid\n",
            "CherryBananasahid\n",
            "Cherry\n",
            "Banana\n",
            "sahid\n"
          ]
        }
      ]
    },
    {
      "cell_type": "code",
      "source": [
        "#global and local veriable\n",
        "x = \"Easy\"\n",
        "\n",
        "def myfunc():\n",
        "  x = \"Hard\"\n",
        "  print(\"Python is \" + x)\n",
        "\n",
        "myfunc()\n",
        "\n",
        "print(\"Python is \" + x)"
      ],
      "metadata": {
        "id": "xu5AcZqgB_RB"
      },
      "execution_count": null,
      "outputs": []
    },
    {
      "cell_type": "code",
      "source": [
        "#list and tuple\n",
        "\n",
        "#list\n",
        "fruits = [\"apple\", \"banana\", \"mango\"]\n",
        "print(fruits)\n",
        "fruits[0] = \"pipeapple\"\n",
        "print(fruits)\n",
        "\n",
        "\n",
        "#tuple\n",
        "fruits2 = (\"apple\", \"banana\", \"mango\")\n",
        "print(f\"\\n{fruits2}\")\n",
        "#fruits[0]= \"pipeapple\"\n",
        "#print(fruits)\n",
        "\n",
        "temp_list = list(fruits2)\n",
        "temp_list[0] = \"pipeapple\"\n",
        "fruits2 = tuple(temp_list)\n",
        "print(fruits2)"
      ],
      "metadata": {
        "colab": {
          "base_uri": "https://localhost:8080/"
        },
        "id": "ZNzpXsmxCiZn",
        "outputId": "f6316a91-1d66-4d3e-bc85-f6ea8c0e987e"
      },
      "execution_count": 26,
      "outputs": [
        {
          "output_type": "stream",
          "name": "stdout",
          "text": [
            "['apple', 'banana', 'mango']\n",
            "['pipeapple', 'banana', 'mango']\n",
            "\n",
            "('apple', 'banana', 'mango')\n",
            "('pipeapple', 'banana', 'mango')\n"
          ]
        }
      ]
    },
    {
      "cell_type": "code",
      "source": [
        "#comparison operator\n",
        "x = 5\n",
        "y = 3\n",
        "\n",
        "print(x == y)\n",
        "print(x != y)\n",
        "print(x > y)\n",
        "print(x < y)\n",
        "print(x >= y)\n",
        "print(x <= y)"
      ],
      "metadata": {
        "colab": {
          "base_uri": "https://localhost:8080/"
        },
        "id": "HCH1dt7FFcKW",
        "outputId": "0b3ce841-51ac-4be3-e605-aaa6ce748bbb"
      },
      "execution_count": 27,
      "outputs": [
        {
          "output_type": "stream",
          "name": "stdout",
          "text": [
            "False\n",
            "True\n",
            "True\n",
            "False\n",
            "True\n",
            "False\n"
          ]
        }
      ]
    },
    {
      "cell_type": "code",
      "source": [
        "#conditional statement\n",
        "a = int(input(\"enter a number: \"))\n",
        "b = 200\n",
        "if b > a:\n",
        "  print(\"b is greater than a\")\n",
        "elif a == b:\n",
        "  print(\"a and b are equal\")\n",
        "else:\n",
        "  print(\"a is greater than b\")"
      ],
      "metadata": {
        "colab": {
          "base_uri": "https://localhost:8080/"
        },
        "id": "CCP3ANfnFwSe",
        "outputId": "971b1200-0501-4253-fda5-9d7685ed07e2"
      },
      "execution_count": 28,
      "outputs": [
        {
          "output_type": "stream",
          "name": "stdout",
          "text": [
            "enter a number: 500\n",
            "a is greater than b\n"
          ]
        }
      ]
    },
    {
      "cell_type": "code",
      "source": [
        "#find the greatest number from the 3 number using funciton\n",
        "\n",
        "num1= float(input(\"Enter first number: \"))\n",
        "num2= float(input(\"Enter second number: \"))\n",
        "num3= float(input(\"Enter third number: \"))\n",
        "\n",
        "def find_greatest(num1,num2,num3):\n",
        "    if (num1 > num2) and (num1 > num3):\n",
        "        greatest = num1\n",
        "    elif (num2 > num1) and (num2 > num3):\n",
        "        greatest = num2\n",
        "    else:\n",
        "        greatest = num3\n",
        "\n",
        "\n",
        "    return greatest\n",
        "\n",
        "greatest_number = find_greatest(num1, num2, num3)\n",
        "print(\"The greatest number is:\", greatest_number)\n",
        "\n",
        "#using max\n",
        "print(f\"Greatest: {max(num1,num2,num3)}\")"
      ],
      "metadata": {
        "colab": {
          "base_uri": "https://localhost:8080/"
        },
        "id": "N9hPskHiGyDj",
        "outputId": "f62d2d80-6d64-4bef-b650-9b6418618461"
      },
      "execution_count": 37,
      "outputs": [
        {
          "output_type": "stream",
          "name": "stdout",
          "text": [
            "Enter first number: 10\n",
            "Enter second number: 2\n",
            "Enter third number: 10\n",
            "The greatest number is: 10.0\n",
            "Greatest: 10.0\n"
          ]
        }
      ]
    },
    {
      "cell_type": "code",
      "source": [
        "#loop\n",
        "\n",
        "#for loop\n",
        "for i in range(10):\n",
        "  print(i)\n",
        "\n",
        "print(\"\\n\")\n",
        "for i in range(2, 10):\n",
        "  print(i)"
      ],
      "metadata": {
        "colab": {
          "base_uri": "https://localhost:8080/"
        },
        "id": "HFwltRDcI3uc",
        "outputId": "ea7d72c0-de32-46d5-e4ee-e9d2b08c63e0"
      },
      "execution_count": 42,
      "outputs": [
        {
          "output_type": "stream",
          "name": "stdout",
          "text": [
            "0\n",
            "1\n",
            "2\n",
            "3\n",
            "4\n",
            "5\n",
            "6\n",
            "7\n",
            "8\n",
            "9\n",
            "\n",
            "\n",
            "2\n",
            "3\n",
            "4\n",
            "5\n",
            "6\n",
            "7\n",
            "8\n",
            "9\n"
          ]
        }
      ]
    },
    {
      "cell_type": "code",
      "source": [
        "#list1 = [-2,-1,0,1,2,3,4,5,6,7]\n",
        "#output = []\n",
        "\n",
        "list1 = [-2, -1, 0, 1, 2, 3, 4, 5, 6, 7]\n",
        "\n",
        "def my_function(list1):\n",
        "  for i in range(len(list1)):\n",
        "      list1[i] = list1[i] * 2\n",
        "  return list1 # Return the modified list\n",
        "\n",
        "modified_list = my_function(list1) # Assign the returned list to a variable\n",
        "print(modified_list) # Print the modified list"
      ],
      "metadata": {
        "id": "igtQaSmZJkxX"
      },
      "execution_count": 66,
      "outputs": []
    },
    {
      "cell_type": "code",
      "source": [
        "#write a python program to find second larget number form a set of numbers\n",
        "list1 = [-2,-1,0,1,2,3,4,5,6,7]\n",
        "list1.sort()\n",
        "print(f\"Second largest number is: {list1[-1]}\")"
      ],
      "metadata": {
        "colab": {
          "base_uri": "https://localhost:8080/"
        },
        "id": "yU2cSlg1MwH_",
        "outputId": "dc7af24e-18a6-4e45-974c-cccc52733955"
      },
      "execution_count": 68,
      "outputs": [
        {
          "output_type": "stream",
          "name": "stdout",
          "text": [
            "Second largest number is: 7\n"
          ]
        }
      ]
    },
    {
      "cell_type": "code",
      "source": [
        "#write a python program to find second larget number form a set of numbers\n",
        "list1 = [-2,-1,0,1,2,3,4,5,6,7]\n",
        "\n",
        "for i in range(len(list1)):\n",
        "    for j in range(i+1,len(list1)):\n",
        "        if list1[i] > list1[j]:\n",
        "            list1[i],list1[j] = list1[j],list1[i]\n",
        "print(f\"Second largest number is: {list1[-2]}\")"
      ],
      "metadata": {
        "colab": {
          "base_uri": "https://localhost:8080/"
        },
        "id": "se4wcfziNtXk",
        "outputId": "24abcb83-b613-4851-c725-1111e106d8da"
      },
      "execution_count": 72,
      "outputs": [
        {
          "output_type": "stream",
          "name": "stdout",
          "text": [
            "Second largest number is: 6\n"
          ]
        }
      ]
    },
    {
      "cell_type": "code",
      "source": [
        "#summation of add and even number\n",
        "list1 = [1,2,3,4,5,6,7,8,9,10]\n",
        "even_sum = 0\n",
        "odd_sum = 0\n",
        "for i in range(len(list1)):\n",
        "  if list1[i] % 2 != 0:\n",
        "    odd_sum = odd_sum + list1[i]\n",
        "  else:\n",
        "    even_sum = even_sum + list1[i]\n",
        "print(f\"Odd sum: {odd_sum}\")\n",
        "print(f\"Even sum: {even_sum}\")"
      ],
      "metadata": {
        "colab": {
          "base_uri": "https://localhost:8080/"
        },
        "id": "njZYIH3mOXci",
        "outputId": "b2db7e84-8480-477d-9e58-9be22c90d0a0"
      },
      "execution_count": 76,
      "outputs": [
        {
          "output_type": "stream",
          "name": "stdout",
          "text": [
            "Odd sum: 25\n",
            "Even sum: 30\n"
          ]
        }
      ]
    },
    {
      "cell_type": "code",
      "source": [
        "def my_fun(*names):\n",
        "  print(\"name: \", names)\n",
        "\n",
        "my_fun(\"sahid\", \"abir\", \"noman\")"
      ],
      "metadata": {
        "colab": {
          "base_uri": "https://localhost:8080/"
        },
        "id": "akqiI6quP6kt",
        "outputId": "f43a205c-4ddf-4432-8df0-68f67b04fd0e"
      },
      "execution_count": 86,
      "outputs": [
        {
          "output_type": "stream",
          "name": "stdout",
          "text": [
            "name:  ('sahid', 'abir', 'noman')\n"
          ]
        }
      ]
    },
    {
      "cell_type": "code",
      "source": [
        "def my_fun(food):\n",
        "  for i in range(len(food)):\n",
        "    #print(i)\n",
        "    print(food[i])\n",
        "\n",
        "fruits = [\"apple\", \"banana\", \"cherry\"]\n",
        "\n",
        "my_fun(fruits)\n"
      ],
      "metadata": {
        "colab": {
          "base_uri": "https://localhost:8080/"
        },
        "id": "6PKyfbkJRjx2",
        "outputId": "c1497fef-c596-4aff-a670-bfe774c9a3f1"
      },
      "execution_count": 90,
      "outputs": [
        {
          "output_type": "stream",
          "name": "stdout",
          "text": [
            "apple\n",
            "banana\n",
            "cherry\n"
          ]
        }
      ]
    },
    {
      "cell_type": "code",
      "source": [
        "def my_fun(n):\n",
        "  if n == 0 or n ==1:\n",
        "    return 1\n",
        "  else:\n",
        "    return n * my_fun(n-1)\n",
        "m = my_fun(5)\n",
        "print(m)"
      ],
      "metadata": {
        "colab": {
          "base_uri": "https://localhost:8080/"
        },
        "id": "Gj0fn37lTqc-",
        "outputId": "0d148821-b7a6-4132-b730-24426c27d01a"
      },
      "execution_count": 98,
      "outputs": [
        {
          "output_type": "stream",
          "name": "stdout",
          "text": [
            "120\n"
          ]
        }
      ]
    }
  ]
}
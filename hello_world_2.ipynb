{
  "nbformat": 4,
  "nbformat_minor": 0,
  "metadata": {
    "colab": {
      "provenance": [],
      "authorship_tag": "ABX9TyNzkYbWe0mUvavVPFzotaT9"
    },
    "kernelspec": {
      "name": "python3",
      "display_name": "Python 3"
    },
    "language_info": {
      "name": "python"
    }
  },
  "cells": [
    {
      "cell_type": "code",
      "execution_count": null,
      "metadata": {
        "colab": {
          "base_uri": "https://localhost:8080/"
        },
        "id": "rhFgLreaIqus",
        "outputId": "2e186267-af20-44dd-91e9-9960bc84a6e3"
      },
      "outputs": [
        {
          "output_type": "stream",
          "name": "stdout",
          "text": [
            "Hello World!\n",
            "This is my first code\n",
            "New Bangladesh!\n"
          ]
        }
      ],
      "source": [
        "print(\"Hello World!\")\n"
      ]
    }
  ]
}